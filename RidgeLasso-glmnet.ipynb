{
 "cells": [
  {
   "cell_type": "code",
   "execution_count": 7,
   "metadata": {},
   "outputs": [
    {
     "name": "stderr",
     "output_type": "stream",
     "text": [
      "Warning message in c * gamma:\n",
      "“Recycling array of length 1 in array-vector arithmetic is deprecated.\n",
      "  Use c() or as.vector() instead.\n",
      "”Warning message in c * b:\n",
      "“Recycling array of length 1 in array-vector arithmetic is deprecated.\n",
      "  Use c() or as.vector() instead.\n",
      "”"
     ]
    },
    {
     "data": {
      "text/html": [
       "<table>\n",
       "<caption>A matrix: 6 × 1 of type dbl</caption>\n",
       "<tbody>\n",
       "\t<tr><td> 0.2490257</td></tr>\n",
       "\t<tr><td> 1.3140788</td></tr>\n",
       "\t<tr><td>-0.5799046</td></tr>\n",
       "\t<tr><td>-0.9818655</td></tr>\n",
       "\t<tr><td>-1.3778077</td></tr>\n",
       "\t<tr><td>-2.8981510</td></tr>\n",
       "</tbody>\n",
       "</table>\n"
      ],
      "text/latex": [
       "A matrix: 6 × 1 of type dbl\n",
       "\\begin{tabular}{l}\n",
       "\t  0.2490257\\\\\n",
       "\t  1.3140788\\\\\n",
       "\t -0.5799046\\\\\n",
       "\t -0.9818655\\\\\n",
       "\t -1.3778077\\\\\n",
       "\t -2.8981510\\\\\n",
       "\\end{tabular}\n"
      ],
      "text/markdown": [
       "\n",
       "A matrix: 6 × 1 of type dbl\n",
       "\n",
       "|  0.2490257 |\n",
       "|  1.3140788 |\n",
       "| -0.5799046 |\n",
       "| -0.9818655 |\n",
       "| -1.3778077 |\n",
       "| -2.8981510 |\n",
       "\n"
      ],
      "text/plain": [
       "     [,1]      \n",
       "[1,]  0.2490257\n",
       "[2,]  1.3140788\n",
       "[3,] -0.5799046\n",
       "[4,] -0.9818655\n",
       "[5,] -1.3778077\n",
       "[6,] -2.8981510"
      ]
     },
     "metadata": {},
     "output_type": "display_data"
    }
   ],
   "source": [
    "### Regressions Ridge et Lasso avec glmnet\n",
    "### 25 septembre 2019\n",
    "### Jeremy L Hour\n",
    "\n",
    "library(\"MASS\")\n",
    "library(\"glmnet\")\n",
    "\n",
    "# load user-defined functions\n",
    "source(\"functions/DataSim.R\") \n",
    "\n",
    "# 1. Simulate data\n",
    "data = DataSim(n=1000, p=20, Ry= .2, Intercept=F)\n",
    "y = data$y; X = data$X"
   ]
  },
  {
   "cell_type": "code",
   "execution_count": null,
   "metadata": {},
   "outputs": [],
   "source": []
  }
 ],
 "metadata": {
  "kernelspec": {
   "display_name": "R",
   "language": "R",
   "name": "ir"
  },
  "language_info": {
   "codemirror_mode": "r",
   "file_extension": ".r",
   "mimetype": "text/x-r-source",
   "name": "R",
   "pygments_lexer": "r",
   "version": "3.6.1"
  }
 },
 "nbformat": 4,
 "nbformat_minor": 2
}
