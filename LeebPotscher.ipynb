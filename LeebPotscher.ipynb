{
 "cells": [
  {
   "cell_type": "code",
   "execution_count": 1,
   "metadata": {},
   "outputs": [],
   "source": [
    "### Distribution de l'estimateur post-selection\n",
    "### base sur Leeb and Potscher (2006)\n",
    "### code original 29 decembre 2017\n",
    "### Jeremy LHour\n",
    "\n",
    "\n",
    "### 0. Fonctions utilisateur\n",
    "Delta = function(a,b){\n",
    "  pnorm(a+b)-pnorm(a-b)\n",
    "}\n",
    "\n",
    "dPS = function(x,beta=.5,rho=.7,n=100){\n",
    "  # variance normalisee a 1\n",
    "  c = sqrt(log(n))\n",
    "  probaR = Delta(sqrt(n)*beta,c)\n",
    "  y = probaR*dnorm(x,mean=-rho*sqrt(n)*beta,sd=sqrt(1-rho^2)) +\n",
    "    (1-Delta((sqrt(n)*beta+rho*x)/sqrt(1-rho^2),c/sqrt(1-rho^2)))*dnorm(x)\n",
    "  return(list(y=y,\n",
    "              probaR=probaR))\n",
    "}"
   ]
  },
  {
   "cell_type": "code",
   "execution_count": null,
   "metadata": {},
   "outputs": [],
   "source": [
    "### 1. Graphe simple\n",
    "xset = seq(-3,3,by=.1)\n",
    "yset = dPS(xset,beta=0,rho=.9)\n",
    "print(yset$probaR)\n",
    "\n",
    "plot(xset,yset$y,type=\"line\")\n",
    "\n",
    "### 1. Graph for handout\n",
    "## G1\n",
    "Myset = cbind(dPS(xset,beta=.5)$y,\n",
    "              dPS(xset,beta=.3)$y,\n",
    "              dPS(xset,beta=.2)$y,\n",
    "              dPS(xset,beta=.1)$y)\n",
    "\n",
    "pdf(\"PSDensity-rho7.pdf\", width=8,height=6)\n",
    "matplot(xset,Myset,type=\"l\",\n",
    "        xlab=\"\",ylab=\"\",lwd=c(2,2,2,2))\n",
    "legend(1.8,.47, c(\".5\", \".3\", \".2\",\".1\"),\n",
    "col=seq_len(4), lty=seq_len(4), lwd=c(2,2,2,2))"
   ]
  }
 ],
 "metadata": {
  "kernelspec": {
   "display_name": "R",
   "language": "R",
   "name": "ir"
  },
  "language_info": {
   "codemirror_mode": "r",
   "file_extension": ".r",
   "mimetype": "text/x-r-source",
   "name": "R",
   "pygments_lexer": "r",
   "version": "3.6.1"
  }
 },
 "nbformat": 4,
 "nbformat_minor": 2
}
