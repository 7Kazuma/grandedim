{
 "cells": [
  {
   "cell_type": "code",
   "execution_count": 3,
   "metadata": {},
   "outputs": [
    {
     "name": "stderr",
     "output_type": "stream",
     "text": [
      "Warning message in c * gamma:\n",
      "“Recycling array of length 1 in array-vector arithmetic is deprecated.\n",
      "  Use c() or as.vector() instead.\n",
      "”Warning message in c * b:\n",
      "“Recycling array of length 1 in array-vector arithmetic is deprecated.\n",
      "  Use c() or as.vector() instead.\n",
      "”"
     ]
    }
   ],
   "source": [
    "### Illustration du biais de regularisation\n",
    "### 26 septembre 2019\n",
    "### Jeremy LHour\n",
    "\n",
    "library(\"MASS\")\n",
    "library(\"glmnet\")\n",
    "\n",
    "# fonctions utilisateur\n",
    "source(\"functions/DataSim.R\") \n",
    "\n",
    "set.seed(12071990)\n",
    "n = 2000\n",
    "data = DataSim(n, p=20, Ry= .2, Intercept=F)"
   ]
  },
  {
   "cell_type": "code",
   "execution_count": null,
   "metadata": {},
   "outputs": [],
   "source": [
    "PostLasso <- function(X,y,nopen){\n",
    "    #'@param nopen indices des variables a ne pas penaliser\n",
    "    phi = rep(1,ncol(X))\n",
    "    phi[nopen] = 0\n",
    "    cv.lasso = cv.glmnet(X,y, family=\"gaussian\",alpha=1,penalty.factor=phi,nfolds=5)\n",
    "    s.hat = (coef(cv.lasso) != 0)\n",
    "    postlasso = lm(y ~ )\n",
    "}"
   ]
  }
 ],
 "metadata": {
  "kernelspec": {
   "display_name": "R",
   "language": "R",
   "name": "ir"
  },
  "language_info": {
   "codemirror_mode": "r",
   "file_extension": ".r",
   "mimetype": "text/x-r-source",
   "name": "R",
   "pygments_lexer": "r",
   "version": "3.5.1"
  }
 },
 "nbformat": 4,
 "nbformat_minor": 2
}
