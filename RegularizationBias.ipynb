{
 "cells": [
  {
   "cell_type": "code",
   "execution_count": 43,
   "metadata": {},
   "outputs": [],
   "source": [
    "### Illustration du biais de regularisation\n",
    "### 26 septembre 2019\n",
    "### Jeremy LHour\n",
    "\n",
    "library(\"MASS\")\n",
    "library(\"glmnet\")\n",
    "library(\"ggplot2\")\n",
    "library(\"gridExtra\")\n",
    "\n",
    "### fonctions utilisateur\n",
    "source(\"functions/DataSim.R\") \n",
    "\n",
    "# Post Lasso\n",
    "PostLasso <- function(X,y,nopen){\n",
    "    #'@param nopen indices des variables a ne pas penaliser\n",
    "    phi = rep(1,ncol(X)); phi[nopen] = 0\n",
    "    # ETAPE 1\n",
    "    cv.lasso = cv.glmnet(X,y, family=\"gaussian\",alpha=1,penalty.factor=phi,nfolds=5)\n",
    "    b.lasso = coef(cv.lasso); b.lasso = b.lasso[-1] # on enleve la constante\n",
    "    s.hat = which(b.lasso != 0) # indices des variables actives parmi les X\n",
    "    # ETAPE 2\n",
    "    postlasso = lm(y ~ X[,s.hat])\n",
    "    b.pl = coef(postlasso)\n",
    "\n",
    "    return(b.pl)\n",
    "}\n",
    "\n",
    "# Post Student\n",
    "PostStudent <- function(X,y,noppen,alpha=.05){\n",
    "    #'@param nopen indices des variables a ne pas penaliser\n",
    "    #'@param alpha niveau de significativite pour selection\n",
    "    # ETAPE 1\n",
    "    fullreg = lm(y ~ X)\n",
    "    s.hat = summary(fullreg)$coef[,\"Pr(>|t|)\"] < alpha\n",
    "    s.hat = s.hat[-1]\n",
    "    s.hat = union(s.hat,nopen)\n",
    "    # ETAPE 2\n",
    "    shortreg = lm(y ~ X[,s.hat])\n",
    "    b.ps = coef(shortreg)\n",
    "\n",
    "    return(b.ps)\n",
    "}"
   ]
  },
  {
   "cell_type": "code",
   "execution_count": 44,
   "metadata": {},
   "outputs": [],
   "source": [
    "### Simulations\n",
    "R = 1000 # nb simulations\n",
    "n = 2000 # sample size\n",
    "p = 10 # nb variables\n",
    "tau = 0 # vrai valeur de l'effet\n",
    "\n",
    "set.seed(326)\n",
    "Results = matrix(ncol=3, nrow=R)"
   ]
  },
  {
   "cell_type": "code",
   "execution_count": 45,
   "metadata": {},
   "outputs": [
    {
     "name": "stdout",
     "output_type": "stream",
     "text": [
      "Time difference of 1.855768 mins\n"
     ]
    }
   ],
   "source": [
    "t_start = Sys.time()\n",
    "\n",
    "for(r in 1:R){\n",
    "  ### GENERATE DATA\n",
    "  data = suppressWarnings(DataSim(n=n,p=p,Ry=.3,Rd=.7,Intercept=F,a=tau))\n",
    "  X = cbind(data$d,data$X); y = data$y\n",
    "  \n",
    "  ### METHOD 1: Modele complet\n",
    "  full.reg = lm(y ~ X)\n",
    "\n",
    "  ### METHOD 2: Selection Lasso\n",
    "  lasso.reg = PostLasso(X,y,nopen=c(1))\n",
    "  \n",
    "  ### METHOD 3: Selection sur la stat de Student\n",
    "  student.reg = PostStudent(X,y,noppen=c(1),alpha=.05)\n",
    "  \n",
    "  \n",
    "  ### COLLECTING RESULTS\n",
    "  Results[r,] = c(full.reg$coef[2],\n",
    "                  lasso.reg[2],\n",
    "                  student.reg[2])\n",
    "}\n",
    "\n",
    "print(Sys.time()-t_start)"
   ]
  },
  {
   "cell_type": "code",
   "execution_count": 46,
   "metadata": {},
   "outputs": [
    {
     "name": "stdout",
     "output_type": "stream",
     "text": [
      "                     bias       RMSE\n",
      "Complet      -0.001452197 0.05969442\n",
      "Post-Lasso    0.025022958 0.06241013\n",
      "Post-Student  1.090680768 1.09209092\n"
     ]
    }
   ],
   "source": [
    "### COMPUTE BIAS AND RMSE\n",
    "StatDisplay = data.frame()\n",
    "StatDisplay[1:3,\"bias\"] = apply(Results-tau,2,mean)\n",
    "StatDisplay[1:3,\"RMSE\"] = sqrt(apply((Results-tau)^2,2,mean))\n",
    "row.names(StatDisplay) = c(\"Complet\",\"Post-Lasso\",\"Post-Student\")\n",
    "print(StatDisplay)"
   ]
  },
  {
   "cell_type": "code",
   "execution_count": 47,
   "metadata": {},
   "outputs": [
    {
     "ename": "ERROR",
     "evalue": "Error in grid.arrange(get.plot(data_res, 1, \"Modele Complet\", StatDisplay[1, : could not find function \"grid.arrange\"\n",
     "output_type": "error",
     "traceback": [
      "Error in grid.arrange(get.plot(data_res, 1, \"Modele Complet\", StatDisplay[1, : could not find function \"grid.arrange\"\nTraceback:\n"
     ]
    }
   ],
   "source": [
    "### DRAW CHARTS\n",
    "id = c(mapply(function(x) rep(x,R),1:3))\n",
    "val = c(Results)-tau\n",
    "data_res = data.frame(val = val, model = id)\n",
    "\n",
    "M = max(abs(quantile(Results,.01,na.rm=T)),abs(quantile(Results,.99,na.rm=T)))\n",
    "lb = -1.1*M; ub = 1.1*M\n",
    "\n",
    "get.plot <- function(data,modelS,title=\"A Title\",s){\n",
    "  plot_res <- ggplot(subset(data, (model==modelS)), aes(x=val)) + \n",
    "    geom_histogram(binwidth = .02, alpha=.5, position='identity',fill=\"steelblue\", aes(y = ..density..)) +\n",
    "    scale_x_continuous(limits=c(lb,ub), name=\"Treatment effect\") +\n",
    "    ggtitle(title) + \n",
    "    stat_function(fun = dnorm, args=list(mean=0, sd=s), colour=\"darkorchid3\", size=1) +\n",
    "    theme(plot.title = element_text(lineheight=.8, face=\"bold\"),legend.position=\"none\")\n",
    "  return(plot_res)\n",
    "} # plot func\n",
    "\n",
    "\n",
    "grid.arrange(get.plot(data_res,1,\"Modele Complet\", StatDisplay[1,2]), get.plot(data_res,2,\"Post-Lasso\",  StatDisplay[1,2]), get.plot(data_res,3,\"Double Selection\",  StatDisplay[1,2]), ncol=3)\n"
   ]
  },
  {
   "cell_type": "code",
   "execution_count": null,
   "metadata": {},
   "outputs": [],
   "source": []
  }
 ],
 "metadata": {
  "kernelspec": {
   "display_name": "R",
   "language": "R",
   "name": "ir"
  },
  "language_info": {
   "codemirror_mode": "r",
   "file_extension": ".r",
   "mimetype": "text/x-r-source",
   "name": "R",
   "pygments_lexer": "r",
   "version": "3.5.1"
  }
 },
 "nbformat": 4,
 "nbformat_minor": 2
}
