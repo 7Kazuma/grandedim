{
 "cells": [
  {
   "cell_type": "code",
   "execution_count": 22,
   "metadata": {},
   "outputs": [],
   "source": [
    "### Illustration du biais de regularisation\n",
    "### 26 septembre 2019\n",
    "### Jeremy LHour\n",
    "\n",
    "library(\"MASS\")\n",
    "library(\"glmnet\")\n",
    "\n",
    "# fonctions utilisateur\n",
    "source(\"functions/DataSim.R\") \n",
    "\n",
    "PostLasso <- function(X,y,nopen){\n",
    "    #'@param nopen indices des variables a ne pas penaliser\n",
    "    phi = rep(1,ncol(X)); phi[nopen] = 0\n",
    "    cv.lasso = cv.glmnet(X,y, family=\"gaussian\",alpha=1,penalty.factor=phi,nfolds=5)\n",
    "    b.lasso = coef(cv.lasso); b.lasso = b.lasso[-1] # on enleve la constante\n",
    "    s.hat = which(b.lasso != 0) # indices des variables actives parmi les X\n",
    "    print(s.hat)\n",
    "    postlasso = lm(y ~ X[,s.hat])\n",
    "    b.pl = coef(postlasso)\n",
    "\n",
    "    return(b.pl)\n",
    "}\n",
    "\n",
    "PostStudent <- function(X,y,noppen,alpha=.05){\n",
    "    #'@param nopen indices des variables a ne pas penaliser\n",
    "    #'@param alpha niveau de significativite pour selection\n",
    "    fullreg = lm(y ~ X)\n",
    "    s.hat = summary(fullreg)$coef[,\"Pr(>|t|)\"] < alpha\n",
    "    s.hat = s.hat[-1]\n",
    "    s.hat = union(s.hat,nopen)\n",
    "    shortreg = lm(y ~ X[,s.hat])\n",
    "    b.ps = coef(shortreg)\n",
    "\n",
    "    return(b.ps)\n",
    "}"
   ]
  },
  {
   "cell_type": "code",
   "execution_count": 21,
   "metadata": {},
   "outputs": [],
   "source": [
    "### Simulations\n",
    "R = 1000 # nb simulations\n",
    "n = 2000 # sample size\n",
    "p = 10 # nb variables\n",
    "\n",
    "set.seed(12071990)\n",
    "data = DataSim(n, p, Ry= .2, Intercept=F)\n",
    "y = data$y; X = data$X"
   ]
  },
  {
   "cell_type": "code",
   "execution_count": 20,
   "metadata": {},
   "outputs": [
    {
     "data": {
      "text/plain": [
       "\n",
       "Call:\n",
       "lm(formula = y ~ X)\n",
       "\n",
       "Residuals:\n",
       "    Min      1Q  Median      3Q     Max \n",
       "-3.5287 -0.6794  0.0006  0.7013  3.9221 \n",
       "\n",
       "Coefficients:\n",
       "              Estimate Std. Error t value Pr(>|t|)    \n",
       "(Intercept)  0.1850646  0.0920817   2.010   0.0446 *  \n",
       "X1          -0.5627363  0.0293335 -19.184   <2e-16 ***\n",
       "X2           0.0478716  0.0593548   0.807   0.4200    \n",
       "X3          -0.0531110  0.0257007  -2.067   0.0389 *  \n",
       "X4          -0.0124577  0.0624004  -0.200   0.8418    \n",
       "X5          -0.0127931  0.0531626  -0.241   0.8099    \n",
       "X6           0.0797145  0.0610825   1.305   0.1920    \n",
       "X7           0.0368171  0.0464784   0.792   0.4284    \n",
       "X8           0.0750002  0.0653359   1.148   0.2511    \n",
       "X9           0.0001293  0.0299675   0.004   0.9966    \n",
       "X10          0.0337080  0.0578976   0.582   0.5605    \n",
       "X11         -0.0156228  0.0233607  -0.669   0.5037    \n",
       "X12          0.0716811  0.0619533   1.157   0.2474    \n",
       "X13         -0.0511413  0.0405358  -1.262   0.2072    \n",
       "X14          0.0506259  0.0600868   0.843   0.3996    \n",
       "X15          0.0140644  0.0425984   0.330   0.7413    \n",
       "X16         -0.0590449  0.0598026  -0.987   0.3236    \n",
       "X17          0.0374292  0.0393087   0.952   0.3411    \n",
       "X18          0.0112535  0.0622229   0.181   0.8565    \n",
       "X19          0.0462763  0.0438272   1.056   0.2912    \n",
       "X20         -0.0508227  0.0641643  -0.792   0.4284    \n",
       "---\n",
       "Signif. codes:  0 ‘***’ 0.001 ‘**’ 0.01 ‘*’ 0.05 ‘.’ 0.1 ‘ ’ 1\n",
       "\n",
       "Residual standard error: 1.03 on 1979 degrees of freedom\n",
       "Multiple R-squared:  0.3181,\tAdjusted R-squared:  0.3112 \n",
       "F-statistic: 46.16 on 20 and 1979 DF,  p-value: < 2.2e-16\n"
      ]
     },
     "metadata": {},
     "output_type": "display_data"
    },
    {
     "name": "stdout",
     "output_type": "stream",
     "text": [
      "(Intercept) X[, s.hat]1 X[, s.hat]2 \n",
      " 0.31123998 -0.57141236 -0.02395663 \n"
     ]
    }
   ],
   "source": []
  },
  {
   "cell_type": "code",
   "execution_count": null,
   "metadata": {},
   "outputs": [],
   "source": []
  }
 ],
 "metadata": {
  "kernelspec": {
   "display_name": "R",
   "language": "R",
   "name": "ir"
  },
  "language_info": {
   "codemirror_mode": "r",
   "file_extension": ".r",
   "mimetype": "text/x-r-source",
   "name": "R",
   "pygments_lexer": "r",
   "version": "3.5.1"
  }
 },
 "nbformat": 4,
 "nbformat_minor": 2
}
