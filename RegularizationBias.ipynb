{
 "cells": [
  {
   "cell_type": "code",
   "execution_count": 22,
   "metadata": {},
   "outputs": [],
   "source": [
    "### Illustration du biais de regularisation\n",
    "### 26 septembre 2019\n",
    "### Jeremy LHour\n",
    "\n",
    "library(\"MASS\")\n",
    "library(\"glmnet\")\n",
    "\n",
    "# fonctions utilisateur\n",
    "source(\"functions/DataSim.R\") \n",
    "\n",
    "PostLasso <- function(X,y,nopen){\n",
    "    #'@param nopen indices des variables a ne pas penaliser\n",
    "    phi = rep(1,ncol(X)); phi[nopen] = 0\n",
    "    cv.lasso = cv.glmnet(X,y, family=\"gaussian\",alpha=1,penalty.factor=phi,nfolds=5)\n",
    "    b.lasso = coef(cv.lasso); b.lasso = b.lasso[-1] # on enleve la constante\n",
    "    s.hat = which(b.lasso != 0) # indices des variables actives parmi les X\n",
    "    print(s.hat)\n",
    "    postlasso = lm(y ~ X[,s.hat])\n",
    "    b.pl = coef(postlasso)\n",
    "\n",
    "    return(b.pl)\n",
    "}\n",
    "\n",
    "PostStudent <- function(X,y,noppen,alpha=.05){\n",
    "    #'@param nopen indices des variables a ne pas penaliser\n",
    "    #'@param alpha niveau de significativite pour selection\n",
    "    fullreg = lm(y ~ X)\n",
    "    s.hat = summary(fullreg)$coef[,\"Pr(>|t|)\"] < alpha\n",
    "    s.hat = s.hat[-1]\n",
    "    s.hat = union(s.hat,nopen)\n",
    "    shortreg = lm(y ~ X[,s.hat])\n",
    "    b.ps = coef(shortreg)\n",
    "\n",
    "    return(b.ps)\n",
    "}"
   ]
  },
  {
   "cell_type": "code",
   "execution_count": 23,
   "metadata": {},
   "outputs": [],
   "source": [
    "### Simulations\n",
    "R = 1000 # nb simulations\n",
    "n = 2000 # sample size\n",
    "p = 10 # nb variables\n",
    "\n",
    "set.seed(326)\n",
    "Results = matrix(ncol=3, nrow=R)"
   ]
  },
  {
   "cell_type": "code",
   "execution_count": 20,
   "metadata": {},
   "outputs": [
    {
     "data": {
      "text/plain": [
       "\n",
       "Call:\n",
       "lm(formula = y ~ X)\n",
       "\n",
       "Residuals:\n",
       "    Min      1Q  Median      3Q     Max \n",
       "-3.5287 -0.6794  0.0006  0.7013  3.9221 \n",
       "\n",
       "Coefficients:\n",
       "              Estimate Std. Error t value Pr(>|t|)    \n",
       "(Intercept)  0.1850646  0.0920817   2.010   0.0446 *  \n",
       "X1          -0.5627363  0.0293335 -19.184   <2e-16 ***\n",
       "X2           0.0478716  0.0593548   0.807   0.4200    \n",
       "X3          -0.0531110  0.0257007  -2.067   0.0389 *  \n",
       "X4          -0.0124577  0.0624004  -0.200   0.8418    \n",
       "X5          -0.0127931  0.0531626  -0.241   0.8099    \n",
       "X6           0.0797145  0.0610825   1.305   0.1920    \n",
       "X7           0.0368171  0.0464784   0.792   0.4284    \n",
       "X8           0.0750002  0.0653359   1.148   0.2511    \n",
       "X9           0.0001293  0.0299675   0.004   0.9966    \n",
       "X10          0.0337080  0.0578976   0.582   0.5605    \n",
       "X11         -0.0156228  0.0233607  -0.669   0.5037    \n",
       "X12          0.0716811  0.0619533   1.157   0.2474    \n",
       "X13         -0.0511413  0.0405358  -1.262   0.2072    \n",
       "X14          0.0506259  0.0600868   0.843   0.3996    \n",
       "X15          0.0140644  0.0425984   0.330   0.7413    \n",
       "X16         -0.0590449  0.0598026  -0.987   0.3236    \n",
       "X17          0.0374292  0.0393087   0.952   0.3411    \n",
       "X18          0.0112535  0.0622229   0.181   0.8565    \n",
       "X19          0.0462763  0.0438272   1.056   0.2912    \n",
       "X20         -0.0508227  0.0641643  -0.792   0.4284    \n",
       "---\n",
       "Signif. codes:  0 ‘***’ 0.001 ‘**’ 0.01 ‘*’ 0.05 ‘.’ 0.1 ‘ ’ 1\n",
       "\n",
       "Residual standard error: 1.03 on 1979 degrees of freedom\n",
       "Multiple R-squared:  0.3181,\tAdjusted R-squared:  0.3112 \n",
       "F-statistic: 46.16 on 20 and 1979 DF,  p-value: < 2.2e-16\n"
      ]
     },
     "metadata": {},
     "output_type": "display_data"
    },
    {
     "name": "stdout",
     "output_type": "stream",
     "text": [
      "(Intercept) X[, s.hat]1 X[, s.hat]2 \n",
      " 0.31123998 -0.57141236 -0.02395663 \n"
     ]
    }
   ],
   "source": [
    "t_start = Sys.time()\n",
    "pb = txtProgressBar(style = 3)\n",
    "\n",
    "for(r in 1:R){\n",
    "  ### GENERATE DATA\n",
    "  data = DataSim(n=n,p=p,Ry=.3,Rd=.7,Intercept=F)\n",
    "  X = cbind(data$d,data$X); y = data$y\n",
    "  \n",
    "  ### METHOD 1: Modele complet\n",
    "  full.reg = lm(y ~ X)\n",
    "\n",
    "  ### METHOD 2: Selection Lasso\n",
    "  lasso.reg = PostLasso()\n",
    "  \n",
    "  \n",
    "  \n",
    "  \n",
    "  ### COLLECTING RESULTS\n",
    "  Results[r,] = c(fullreg$coef['d'],\n",
    "                  DSfit$coef['d'],\n",
    "                  mean(theta))\n",
    "  \n",
    "  setTxtProgressBar(pb, r/R)\n",
    "}\n",
    "\n",
    "close(pb)\n",
    "print(Sys.time()-t_start)\n",
    "\n",
    "### COMPUTE BIAS AND RMSE\n",
    "StatDisplay = data.frame()\n",
    "StatDisplay[1:3,\"bias\"] = apply(Results-a,2,mean)\n",
    "StatDisplay[1:3,\"RMSE\"] = sqrt(apply((Results-a)^2,2,mean))\n",
    "row.names(StatDisplay) = c(\"Naive\",\"Immunized\",\"Immunized, Cross-fitted\")\n",
    "print(StatDisplay)\n",
    "\n",
    "### DRAW CHARTS\n",
    "id = c(mapply(function(x) rep(x,R),1:3))\n",
    "val = c(Results)-a\n",
    "data_res = data.frame(val = val, model = id)\n",
    "\n",
    "M = max(abs(quantile(Results,.01,na.rm=T)),abs(quantile(Results,.99,na.rm=T)))\n",
    "lb = -1.1*M; ub = 1.1*M\n",
    "\n",
    "get.plot <- function(data,modelS,title=\"A Title\",s){\n",
    "  plot_res <- ggplot(subset(data, (model==modelS)), aes(x=val)) + \n",
    "    geom_histogram(binwidth = .02, alpha=.5, position='identity',fill=\"steelblue\", aes(y = ..density..)) +\n",
    "    scale_x_continuous(limits=c(lb,ub), name=\"Treatment effect\") +\n",
    "    ggtitle(title) + \n",
    "    stat_function(fun = dnorm, args=list(mean=0, sd=s), colour=\"darkorchid3\", size=1) +\n",
    "    theme(plot.title = element_text(lineheight=.8, face=\"bold\"),legend.position=\"none\")\n",
    "  return(plot_res)\n",
    "} # plot func\n",
    "\n",
    "pdf(\"plots/Immunized.pdf\",width=14,height=4)\n",
    "grid.arrange(get.plot(data_res,1,\"Naive Post-Selec\", mean(stdev)), get.plot(data_res,2,\"Double-Selec\", mean(stdev)), get.plot(data_res,3,\"Double-Selec, Cross-fitting\", mean(stdev)), ncol=3)\n",
    "dev.off()\n"
   ]
  },
  {
   "cell_type": "code",
   "execution_count": 24,
   "metadata": {},
   "outputs": [
    {
     "name": "stderr",
     "output_type": "stream",
     "text": [
      "Warning message in c * gamma:\n",
      "“Recycling array of length 1 in array-vector arithmetic is deprecated.\n",
      "  Use c() or as.vector() instead.\n",
      "”Warning message in c * b:\n",
      "“Recycling array of length 1 in array-vector arithmetic is deprecated.\n",
      "  Use c() or as.vector() instead.\n",
      "”"
     ]
    },
    {
     "data": {
      "text/plain": [
       "\n",
       "Call:\n",
       "lm(formula = y ~ X)\n",
       "\n",
       "Residuals:\n",
       "    Min      1Q  Median      3Q     Max \n",
       "-3.6823 -0.6406  0.0075  0.6506  3.2331 \n",
       "\n",
       "Coefficients:\n",
       "             Estimate Std. Error t value Pr(>|t|)    \n",
       "(Intercept) -0.033320   0.071929  -0.463   0.6432    \n",
       "X1           0.545330   0.061178   8.914   <2e-16 ***\n",
       "X2          -0.700560   0.037144 -18.860   <2e-16 ***\n",
       "X3           0.118896   0.060976   1.950   0.0513 .  \n",
       "X4          -0.041923   0.029689  -1.412   0.1581    \n",
       "X5           0.007144   0.064792   0.110   0.9122    \n",
       "X6          -0.016198   0.053211  -0.304   0.7608    \n",
       "X7           0.020552   0.052928   0.388   0.6978    \n",
       "X8          -0.024606   0.049804  -0.494   0.6213    \n",
       "X9           0.117041   0.061616   1.900   0.0576 .  \n",
       "X10         -0.005923   0.035072  -0.169   0.8659    \n",
       "X11          0.039704   0.057681   0.688   0.4913    \n",
       "---\n",
       "Signif. codes:  0 ‘***’ 0.001 ‘**’ 0.01 ‘*’ 0.05 ‘.’ 0.1 ‘ ’ 1\n",
       "\n",
       "Residual standard error: 1.01 on 1988 degrees of freedom\n",
       "Multiple R-squared:  0.5155,\tAdjusted R-squared:  0.5128 \n",
       "F-statistic: 192.3 on 11 and 1988 DF,  p-value: < 2.2e-16\n"
      ]
     },
     "metadata": {},
     "output_type": "display_data"
    }
   ],
   "source": [
    "data = DataSim(n=n,p=p,Ry=.3,Rd=.7,Intercept=F)\n",
    "  X = cbind(data$d,data$X); y = data$y\n",
    "  \n",
    "  ### METHOD 1: Modele complet\n",
    "  fullreg = lm(y ~ X)\n",
    "summary(fullreg)"
   ]
  },
  {
   "cell_type": "code",
   "execution_count": null,
   "metadata": {},
   "outputs": [],
   "source": []
  }
 ],
 "metadata": {
  "kernelspec": {
   "display_name": "R",
   "language": "R",
   "name": "ir"
  },
  "language_info": {
   "codemirror_mode": "r",
   "file_extension": ".r",
   "mimetype": "text/x-r-source",
   "name": "R",
   "pygments_lexer": "r",
   "version": "3.5.1"
  }
 },
 "nbformat": 4,
 "nbformat_minor": 2
}
