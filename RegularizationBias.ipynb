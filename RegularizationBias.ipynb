{
 "cells": [
  {
   "cell_type": "code",
   "execution_count": 36,
   "metadata": {},
   "outputs": [],
   "source": [
    "### Illustration du biais de regularisation\n",
    "### 26 septembre 2019\n",
    "### Jeremy LHour\n",
    "\n",
    "library(\"MASS\")\n",
    "library(\"glmnet\")\n",
    "\n",
    "# fonctions utilisateur\n",
    "source(\"functions/DataSim.R\") \n",
    "\n",
    "PostLasso <- function(X,y,nopen){\n",
    "    #'@param nopen indices des variables a ne pas penaliser\n",
    "    phi = rep(1,ncol(X)); phi[nopen] = 0\n",
    "    cv.lasso = cv.glmnet(X,y, family=\"gaussian\",alpha=1,penalty.factor=phi,nfolds=5)\n",
    "    b.lasso = coef(cv.lasso); b.lasso = b.lasso[-1] # on enleve la constante\n",
    "    s.hat = which(b.lasso != 0) # indices des variables actives parmi les X\n",
    "    postlasso = lm(y ~ X[,s.hat])\n",
    "    b.pl = coef(postlasso)\n",
    "\n",
    "    return(b.pl)\n",
    "}\n",
    "\n",
    "PostStudent <- function(X,y,noppen,alpha=.05){\n",
    "    #'@param nopen indices des variables a ne pas penaliser\n",
    "    #'@param alpha niveau de significativite pour selection\n",
    "    fullreg = lm(y ~ X)\n",
    "    s.hat = summary(fullreg)$coef[,\"Pr(>|t|)\"] < alpha\n",
    "    s.hat = s.hat[-1]\n",
    "    s.hat = union(s.hat,nopen)\n",
    "    shortreg = lm(y ~ X[,s.hat])\n",
    "    b.ps = coef(shortreg)\n",
    "\n",
    "    return(b.ps)\n",
    "}"
   ]
  },
  {
   "cell_type": "code",
   "execution_count": 37,
   "metadata": {},
   "outputs": [],
   "source": [
    "### Simulations\n",
    "R = 100 # nb simulations\n",
    "n = 2000 # sample size\n",
    "p = 10 # nb variables\n",
    "tau = 0 # vrai valeur de l'effet\n",
    "\n",
    "set.seed(326)\n",
    "Results = matrix(ncol=3, nrow=R)"
   ]
  },
  {
   "cell_type": "code",
   "execution_count": 39,
   "metadata": {},
   "outputs": [
    {
     "name": "stdout",
     "output_type": "stream",
     "text": [
      "Time difference of 1.246873 secs\n"
     ]
    },
    {
     "data": {
      "text/html": [
       "<table>\n",
       "<caption>A matrix: 6 × 3 of type dbl</caption>\n",
       "<tbody>\n",
       "\t<tr><td>0.4733416</td><td>0.4865791</td><td>1.528994</td></tr>\n",
       "\t<tr><td>0.5476676</td><td>0.5537783</td><td>1.561721</td></tr>\n",
       "\t<tr><td>0.5944681</td><td>0.5970645</td><td>1.606828</td></tr>\n",
       "\t<tr><td>0.4784612</td><td>0.5230438</td><td>1.653076</td></tr>\n",
       "\t<tr><td>0.5810590</td><td>0.6271770</td><td>1.695772</td></tr>\n",
       "\t<tr><td>0.4083924</td><td>0.4467230</td><td>1.541817</td></tr>\n",
       "</tbody>\n",
       "</table>\n"
      ],
      "text/latex": [
       "A matrix: 6 × 3 of type dbl\n",
       "\\begin{tabular}{lll}\n",
       "\t 0.4733416 & 0.4865791 & 1.528994\\\\\n",
       "\t 0.5476676 & 0.5537783 & 1.561721\\\\\n",
       "\t 0.5944681 & 0.5970645 & 1.606828\\\\\n",
       "\t 0.4784612 & 0.5230438 & 1.653076\\\\\n",
       "\t 0.5810590 & 0.6271770 & 1.695772\\\\\n",
       "\t 0.4083924 & 0.4467230 & 1.541817\\\\\n",
       "\\end{tabular}\n"
      ],
      "text/markdown": [
       "\n",
       "A matrix: 6 × 3 of type dbl\n",
       "\n",
       "| 0.4733416 | 0.4865791 | 1.528994 |\n",
       "| 0.5476676 | 0.5537783 | 1.561721 |\n",
       "| 0.5944681 | 0.5970645 | 1.606828 |\n",
       "| 0.4784612 | 0.5230438 | 1.653076 |\n",
       "| 0.5810590 | 0.6271770 | 1.695772 |\n",
       "| 0.4083924 | 0.4467230 | 1.541817 |\n",
       "\n"
      ],
      "text/plain": [
       "     [,1]      [,2]      [,3]    \n",
       "[1,] 0.4733416 0.4865791 1.528994\n",
       "[2,] 0.5476676 0.5537783 1.561721\n",
       "[3,] 0.5944681 0.5970645 1.606828\n",
       "[4,] 0.4784612 0.5230438 1.653076\n",
       "[5,] 0.5810590 0.6271770 1.695772\n",
       "[6,] 0.4083924 0.4467230 1.541817"
      ]
     },
     "metadata": {},
     "output_type": "display_data"
    }
   ],
   "source": [
    "t_start = Sys.time()\n",
    "\n",
    "for(r in 1:R){\n",
    "  ### GENERATE DATA\n",
    "  data = suppressWarnings(DataSim(n=n,p=p,Ry=.3,Rd=.7,Intercept=F,a=tau))\n",
    "  X = cbind(data$d,data$X); y = data$y\n",
    "  \n",
    "  ### METHOD 1: Modele complet\n",
    "  full.reg = lm(y ~ X)\n",
    "\n",
    "  ### METHOD 2: Selection Lasso\n",
    "  lasso.reg = PostLasso(X,y,nopen=c(1))\n",
    "  \n",
    "  ### METHOD 3: Selection sur la stat de Student\n",
    "  student.reg = PostStudent(X,y,noppen=c(1),alpha=.05)\n",
    "  \n",
    "  \n",
    "  ### COLLECTING RESULTS\n",
    "  Results[r,] = c(full.reg$coef[2],\n",
    "                  lasso.reg[2],\n",
    "                  student.reg[2])\n",
    "}\n",
    "\n",
    "print(Sys.time()-t_start)\n",
    "\n",
    "head(Results)"
   ]
  },
  {
   "cell_type": "code",
   "execution_count": 24,
   "metadata": {},
   "outputs": [
    {
     "name": "stderr",
     "output_type": "stream",
     "text": [
      "Warning message in c * gamma:\n",
      "“Recycling array of length 1 in array-vector arithmetic is deprecated.\n",
      "  Use c() or as.vector() instead.\n",
      "”Warning message in c * b:\n",
      "“Recycling array of length 1 in array-vector arithmetic is deprecated.\n",
      "  Use c() or as.vector() instead.\n",
      "”"
     ]
    },
    {
     "data": {
      "text/plain": [
       "\n",
       "Call:\n",
       "lm(formula = y ~ X)\n",
       "\n",
       "Residuals:\n",
       "    Min      1Q  Median      3Q     Max \n",
       "-3.6823 -0.6406  0.0075  0.6506  3.2331 \n",
       "\n",
       "Coefficients:\n",
       "             Estimate Std. Error t value Pr(>|t|)    \n",
       "(Intercept) -0.033320   0.071929  -0.463   0.6432    \n",
       "X1           0.545330   0.061178   8.914   <2e-16 ***\n",
       "X2          -0.700560   0.037144 -18.860   <2e-16 ***\n",
       "X3           0.118896   0.060976   1.950   0.0513 .  \n",
       "X4          -0.041923   0.029689  -1.412   0.1581    \n",
       "X5           0.007144   0.064792   0.110   0.9122    \n",
       "X6          -0.016198   0.053211  -0.304   0.7608    \n",
       "X7           0.020552   0.052928   0.388   0.6978    \n",
       "X8          -0.024606   0.049804  -0.494   0.6213    \n",
       "X9           0.117041   0.061616   1.900   0.0576 .  \n",
       "X10         -0.005923   0.035072  -0.169   0.8659    \n",
       "X11          0.039704   0.057681   0.688   0.4913    \n",
       "---\n",
       "Signif. codes:  0 ‘***’ 0.001 ‘**’ 0.01 ‘*’ 0.05 ‘.’ 0.1 ‘ ’ 1\n",
       "\n",
       "Residual standard error: 1.01 on 1988 degrees of freedom\n",
       "Multiple R-squared:  0.5155,\tAdjusted R-squared:  0.5128 \n",
       "F-statistic: 192.3 on 11 and 1988 DF,  p-value: < 2.2e-16\n"
      ]
     },
     "metadata": {},
     "output_type": "display_data"
    }
   ],
   "source": [
    "### COMPUTE BIAS AND RMSE\n",
    "StatDisplay = data.frame()\n",
    "StatDisplay[1:3,\"bias\"] = apply(Results-a,2,mean)\n",
    "StatDisplay[1:3,\"RMSE\"] = sqrt(apply((Results-a)^2,2,mean))\n",
    "row.names(StatDisplay) = c(\"Naive\",\"Immunized\",\"Immunized, Cross-fitted\")\n",
    "print(StatDisplay)\n",
    "\n",
    "### DRAW CHARTS\n",
    "id = c(mapply(function(x) rep(x,R),1:3))\n",
    "val = c(Results)-a\n",
    "data_res = data.frame(val = val, model = id)\n",
    "\n",
    "M = max(abs(quantile(Results,.01,na.rm=T)),abs(quantile(Results,.99,na.rm=T)))\n",
    "lb = -1.1*M; ub = 1.1*M\n",
    "\n",
    "get.plot <- function(data,modelS,title=\"A Title\",s){\n",
    "  plot_res <- ggplot(subset(data, (model==modelS)), aes(x=val)) + \n",
    "    geom_histogram(binwidth = .02, alpha=.5, position='identity',fill=\"steelblue\", aes(y = ..density..)) +\n",
    "    scale_x_continuous(limits=c(lb,ub), name=\"Treatment effect\") +\n",
    "    ggtitle(title) + \n",
    "    stat_function(fun = dnorm, args=list(mean=0, sd=s), colour=\"darkorchid3\", size=1) +\n",
    "    theme(plot.title = element_text(lineheight=.8, face=\"bold\"),legend.position=\"none\")\n",
    "  return(plot_res)\n",
    "} # plot func\n",
    "\n",
    "pdf(\"plots/Immunized.pdf\",width=14,height=4)\n",
    "grid.arrange(get.plot(data_res,1,\"Naive Post-Selec\", mean(stdev)), get.plot(data_res,2,\"Double-Selec\", mean(stdev)), get.plot(data_res,3,\"Double-Selec, Cross-fitting\", mean(stdev)), ncol=3)\n",
    "dev.off()"
   ]
  },
  {
   "cell_type": "code",
   "execution_count": null,
   "metadata": {},
   "outputs": [],
   "source": []
  }
 ],
 "metadata": {
  "kernelspec": {
   "display_name": "R",
   "language": "R",
   "name": "ir"
  },
  "language_info": {
   "codemirror_mode": "r",
   "file_extension": ".r",
   "mimetype": "text/x-r-source",
   "name": "R",
   "pygments_lexer": "r",
   "version": "3.5.1"
  }
 },
 "nbformat": 4,
 "nbformat_minor": 2
}
