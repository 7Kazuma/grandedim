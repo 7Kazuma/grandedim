{
 "cells": [
  {
   "cell_type": "code",
   "execution_count": 4,
   "metadata": {},
   "outputs": [
    {
     "name": "stderr",
     "output_type": "stream",
     "text": [
      "Warning message in c * gamma:\n",
      "“Recycling array of length 1 in array-vector arithmetic is deprecated.\n",
      "  Use c() or as.vector() instead.\n",
      "”Warning message in c * b:\n",
      "“Recycling array of length 1 in array-vector arithmetic is deprecated.\n",
      "  Use c() or as.vector() instead.\n",
      "”"
     ]
    }
   ],
   "source": [
    "### Illustration du biais de regularisation\n",
    "### 26 septembre 2019\n",
    "### Jeremy LHour\n",
    "\n",
    "library(\"MASS\")\n",
    "library(\"glmnet\")\n",
    "\n",
    "# fonctions utilisateur\n",
    "source(\"functions/DataSim.R\") \n",
    "\n",
    "set.seed(12071990)\n",
    "n = 2000\n",
    "data = DataSim(n, p=20, Ry= .2, Intercept=F)\n",
    "y = data$y; X = data$X"
   ]
  },
  {
   "cell_type": "code",
   "execution_count": 16,
   "metadata": {},
   "outputs": [],
   "source": [
    "PostLasso <- function(X,y,nopen){\n",
    "    #'@param nopen indices des variables a ne pas penaliser\n",
    "    phi = rep(1,ncol(X)); phi[nopen] = 0\n",
    "    cv.lasso = cv.glmnet(X,y, family=\"gaussian\",alpha=1,penalty.factor=phi,nfolds=5)\n",
    "    b.lasso = coef(cv.lasso); b.lasso = b.lasso[-1] # on enleve la constante\n",
    "    s.hat = which(b.lasso != 0) # indices des variables actives parmi les X\n",
    "    print(s.hat)\n",
    "    postlasso = lm(y ~ X[,s.hat])\n",
    "    b.pl = coef(postlasso)\n",
    "\n",
    "    return(b.pl)\n",
    "}\n",
    "\n",
    "PostStudent <- function(X,y,noppen,alpha=.05){\n",
    "    #'@param nopen indices des variables a ne pas penaliser\n",
    "    #'@param alpha niveau de significativite pour selection\n",
    "    fullreg = lm(y ~ X)\n",
    "    s.hat = summary(fullreg)$coef[,\"Pr(>|t|)\"] < alpha\n",
    "    s.hat = s.hat[-1]\n",
    "    s.hat = union(s.hat,nopen)\n",
    "    shortreg = lm(y ~ X[,s.hat])\n",
    "    b.ps = coef(shortref)\n",
    "\n",
    "    return(b.ps)\n",
    "}\n"
   ]
  },
  {
   "cell_type": "code",
   "execution_count": 17,
   "metadata": {},
   "outputs": [
    {
     "ename": "ERROR",
     "evalue": "Error in eval(expr, envir, enclos): object 'alpha' not found\n",
     "output_type": "error",
     "traceback": [
      "Error in eval(expr, envir, enclos): object 'alpha' not found\nTraceback:\n"
     ]
    }
   ],
   "source": [
    "    fullreg = lm(y ~ X)\n",
    "    s.hat = summary(fullreg)$coef[,\"Pr(>|t|)\"] < .05\n",
    "    s.hat = s.hat[-1]\n",
    "    s.hat = union(s.hat,nopen)\n",
    "    shortreg = lm(y ~ X[,s.hat])\n",
    "    b.ps = coef(shortref)\n",
    "print(b.ps)"
   ]
  },
  {
   "cell_type": "code",
   "execution_count": null,
   "metadata": {},
   "outputs": [],
   "source": []
  }
 ],
 "metadata": {
  "kernelspec": {
   "display_name": "R",
   "language": "R",
   "name": "ir"
  },
  "language_info": {
   "codemirror_mode": "r",
   "file_extension": ".r",
   "mimetype": "text/x-r-source",
   "name": "R",
   "pygments_lexer": "r",
   "version": "3.5.1"
  }
 },
 "nbformat": 4,
 "nbformat_minor": 2
}
