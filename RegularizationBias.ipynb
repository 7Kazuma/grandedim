{
 "cells": [
  {
   "cell_type": "code",
   "execution_count": 4,
   "metadata": {},
   "outputs": [
    {
     "name": "stderr",
     "output_type": "stream",
     "text": [
      "Warning message in c * gamma:\n",
      "“Recycling array of length 1 in array-vector arithmetic is deprecated.\n",
      "  Use c() or as.vector() instead.\n",
      "”Warning message in c * b:\n",
      "“Recycling array of length 1 in array-vector arithmetic is deprecated.\n",
      "  Use c() or as.vector() instead.\n",
      "”"
     ]
    }
   ],
   "source": [
    "### Illustration du biais de regularisation\n",
    "### 26 septembre 2019\n",
    "### Jeremy LHour\n",
    "\n",
    "library(\"MASS\")\n",
    "library(\"glmnet\")\n",
    "\n",
    "# fonctions utilisateur\n",
    "source(\"functions/DataSim.R\") \n",
    "\n",
    "set.seed(12071990)\n",
    "n = 2000\n",
    "data = DataSim(n, p=20, Ry= .2, Intercept=F)\n",
    "y = data$y; X = data$X"
   ]
  },
  {
   "cell_type": "code",
   "execution_count": 8,
   "metadata": {},
   "outputs": [
    {
     "name": "stdout",
     "output_type": "stream",
     "text": [
      "21 x 1 sparse Matrix of class \"dgCMatrix\"\n",
      "                      1\n",
      "(Intercept)  0.31123998\n",
      "V1          -0.57141236\n",
      "V2           .         \n",
      "V3          -0.02395663\n",
      "V4           .         \n",
      "V5           .         \n",
      "V6           .         \n",
      "V7           .         \n",
      "V8           .         \n",
      "V9           .         \n",
      "V10          .         \n",
      "V11          .         \n",
      "V12          .         \n",
      "V13          .         \n",
      "V14          .         \n",
      "V15          .         \n",
      "V16          .         \n",
      "V17          .         \n",
      "V18          .         \n",
      "V19          .         \n",
      "V20          .         \n",
      "21 x 1 sparse Matrix of class \"lgCMatrix\"\n",
      "            1\n",
      "(Intercept) |\n",
      "V1          |\n",
      "V2          .\n",
      "V3          |\n",
      "V4          .\n",
      "V5          .\n",
      "V6          .\n",
      "V7          .\n",
      "V8          .\n",
      "V9          .\n",
      "V10         .\n",
      "V11         .\n",
      "V12         .\n",
      "V13         .\n",
      "V14         .\n",
      "V15         .\n",
      "V16         .\n",
      "V17         .\n",
      "V18         .\n",
      "V19         .\n",
      "V20         .\n"
     ]
    }
   ],
   "source": [
    "nopen = c(1,3)\n",
    "phi = rep(1,ncol(X))\n",
    "phi[nopen] = 0\n",
    "cv.lasso = cv.glmnet(X,y, family=\"gaussian\",alpha=1,penalty.factor=phi,nfolds=5)\n",
    "b.lasso = coef(cv.lasso)\n",
    "b.lasso = b.lasso[-1] # on enleve la constante\n",
    "s.hat = (b.lasso != 0) # indices des variables actives\n",
    "print(s.hat)"
   ]
  },
  {
   "cell_type": "code",
   "execution_count": null,
   "metadata": {},
   "outputs": [],
   "source": [
    "PostLasso <- function(X,y,nopen){\n",
    "    #'@param nopen indices des variables a ne pas penaliser\n",
    "    phi = rep(1,ncol(X))\n",
    "    phi[nopen] = 0\n",
    "    cv.lasso = cv.glmnet(X,y, family=\"gaussian\",alpha=1,penalty.factor=phi,nfolds=5)\n",
    "    s.hat = (coef(cv.lasso) != 0)\n",
    "    postlasso = lm(y ~ )\n",
    "}"
   ]
  }
 ],
 "metadata": {
  "kernelspec": {
   "display_name": "R",
   "language": "R",
   "name": "ir"
  },
  "language_info": {
   "codemirror_mode": "r",
   "file_extension": ".r",
   "mimetype": "text/x-r-source",
   "name": "R",
   "pygments_lexer": "r",
   "version": "3.5.1"
  }
 },
 "nbformat": 4,
 "nbformat_minor": 2
}
