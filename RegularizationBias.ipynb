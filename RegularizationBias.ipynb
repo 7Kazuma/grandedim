{
 "cells": [
  {
   "cell_type": "code",
   "execution_count": 4,
   "metadata": {},
   "outputs": [
    {
     "name": "stderr",
     "output_type": "stream",
     "text": [
      "Warning message in c * gamma:\n",
      "“Recycling array of length 1 in array-vector arithmetic is deprecated.\n",
      "  Use c() or as.vector() instead.\n",
      "”Warning message in c * b:\n",
      "“Recycling array of length 1 in array-vector arithmetic is deprecated.\n",
      "  Use c() or as.vector() instead.\n",
      "”"
     ]
    }
   ],
   "source": [
    "### Illustration du biais de regularisation\n",
    "### 26 septembre 2019\n",
    "### Jeremy LHour\n",
    "\n",
    "library(\"MASS\")\n",
    "library(\"glmnet\")\n",
    "\n",
    "# fonctions utilisateur\n",
    "source(\"functions/DataSim.R\") \n",
    "\n",
    "set.seed(12071990)\n",
    "n = 2000\n",
    "data = DataSim(n, p=20, Ry= .2, Intercept=F)\n",
    "y = data$y; X = data$X"
   ]
  },
  {
   "cell_type": "code",
   "execution_count": 13,
   "metadata": {},
   "outputs": [
    {
     "data": {
      "text/plain": [
       "\n",
       "Call:\n",
       "lm(formula = y ~ X[, s.hat])\n",
       "\n",
       "Residuals:\n",
       "    Min      1Q  Median      3Q     Max \n",
       "-3.6250 -0.6939  0.0016  0.7049  3.8676 \n",
       "\n",
       "Coefficients:\n",
       "            Estimate Std. Error t value Pr(>|t|)    \n",
       "(Intercept)  0.31124    0.02301  13.528   <2e-16 ***\n",
       "X[, s.hat]1 -0.57141    0.01898 -30.101   <2e-16 ***\n",
       "X[, s.hat]2 -0.02396    0.01882  -1.273    0.203    \n",
       "---\n",
       "Signif. codes:  0 ‘***’ 0.001 ‘**’ 0.01 ‘*’ 0.05 ‘.’ 0.1 ‘ ’ 1\n",
       "\n",
       "Residual standard error: 1.029 on 1997 degrees of freedom\n",
       "Multiple R-squared:  0.3138,\tAdjusted R-squared:  0.3131 \n",
       "F-statistic: 456.5 on 2 and 1997 DF,  p-value: < 2.2e-16\n"
      ]
     },
     "metadata": {},
     "output_type": "display_data"
    },
    {
     "name": "stdout",
     "output_type": "stream",
     "text": [
      "(Intercept) X[, s.hat]1 X[, s.hat]2 \n",
      " 0.31123998 -0.57141236 -0.02395663 \n"
     ]
    }
   ],
   "source": [
    "nopen = c(1,3)\n",
    "phi = rep(1,ncol(X))\n",
    "phi[nopen] = 0\n",
    "cv.lasso = cv.glmnet(X,y, family=\"gaussian\",alpha=1,penalty.factor=phi,nfolds=5)\n",
    "b.lasso = coef(cv.lasso)\n",
    "b.lasso = b.lasso[-1] # on enleve la constante\n",
    "s.hat = (b.lasso != 0) # indices des variables actives\n",
    "postlasso = lm(y ~ X[,s.hat])\n",
    "b.pl = coef(postlasso)\n",
    "summary(postlasso)\n",
    "print(b.pl)"
   ]
  },
  {
   "cell_type": "code",
   "execution_count": null,
   "metadata": {},
   "outputs": [],
   "source": [
    "PostLasso <- function(X,y,nopen){\n",
    "    #'@param nopen indices des variables a ne pas penaliser\n",
    "    phi = rep(1,ncol(X))\n",
    "    phi[nopen] = 0\n",
    "    cv.lasso = cv.glmnet(X,y, family=\"gaussian\",alpha=1,penalty.factor=phi,nfolds=5)\n",
    "    s.hat = (coef(cv.lasso) != 0)\n",
    "    postlasso = lm(y ~ )\n",
    "}"
   ]
  }
 ],
 "metadata": {
  "kernelspec": {
   "display_name": "R",
   "language": "R",
   "name": "ir"
  },
  "language_info": {
   "codemirror_mode": "r",
   "file_extension": ".r",
   "mimetype": "text/x-r-source",
   "name": "R",
   "pygments_lexer": "r",
   "version": "3.5.1"
  }
 },
 "nbformat": 4,
 "nbformat_minor": 2
}
