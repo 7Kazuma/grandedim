{
 "cells": [
  {
   "cell_type": "code",
   "execution_count": 36,
   "metadata": {},
   "outputs": [],
   "source": [
    "### Illustration du biais de regularisation\n",
    "### 26 septembre 2019\n",
    "### Jeremy LHour\n",
    "\n",
    "library(\"MASS\")\n",
    "library(\"glmnet\")\n",
    "\n",
    "# fonctions utilisateur\n",
    "source(\"functions/DataSim.R\") \n",
    "\n",
    "PostLasso <- function(X,y,nopen){\n",
    "    #'@param nopen indices des variables a ne pas penaliser\n",
    "    phi = rep(1,ncol(X)); phi[nopen] = 0\n",
    "    cv.lasso = cv.glmnet(X,y, family=\"gaussian\",alpha=1,penalty.factor=phi,nfolds=5)\n",
    "    b.lasso = coef(cv.lasso); b.lasso = b.lasso[-1] # on enleve la constante\n",
    "    s.hat = which(b.lasso != 0) # indices des variables actives parmi les X\n",
    "    postlasso = lm(y ~ X[,s.hat])\n",
    "    b.pl = coef(postlasso)\n",
    "\n",
    "    return(b.pl)\n",
    "}\n",
    "\n",
    "PostStudent <- function(X,y,noppen,alpha=.05){\n",
    "    #'@param nopen indices des variables a ne pas penaliser\n",
    "    #'@param alpha niveau de significativite pour selection\n",
    "    fullreg = lm(y ~ X)\n",
    "    s.hat = summary(fullreg)$coef[,\"Pr(>|t|)\"] < alpha\n",
    "    s.hat = s.hat[-1]\n",
    "    s.hat = union(s.hat,nopen)\n",
    "    shortreg = lm(y ~ X[,s.hat])\n",
    "    b.ps = coef(shortreg)\n",
    "\n",
    "    return(b.ps)\n",
    "}"
   ]
  },
  {
   "cell_type": "code",
   "execution_count": 40,
   "metadata": {},
   "outputs": [],
   "source": [
    "### Simulations\n",
    "R = 1000 # nb simulations\n",
    "n = 2000 # sample size\n",
    "p = 10 # nb variables\n",
    "tau = 0 # vrai valeur de l'effet\n",
    "\n",
    "set.seed(326)\n",
    "Results = matrix(ncol=3, nrow=R)"
   ]
  },
  {
   "cell_type": "code",
   "execution_count": 41,
   "metadata": {},
   "outputs": [
    {
     "name": "stdout",
     "output_type": "stream",
     "text": [
      "Time difference of 11.02215 secs\n"
     ]
    },
    {
     "data": {
      "text/html": [
       "<table>\n",
       "<caption>A matrix: 6 × 3 of type dbl</caption>\n",
       "<tbody>\n",
       "\t<tr><td> 0.045330035</td><td> 0.03809809</td><td>1.084887</td></tr>\n",
       "\t<tr><td> 0.001892590</td><td> 0.02064822</td><td>1.148317</td></tr>\n",
       "\t<tr><td> 0.004314266</td><td> 0.07337092</td><td>1.071290</td></tr>\n",
       "\t<tr><td> 0.024781972</td><td> 0.03994716</td><td>1.096133</td></tr>\n",
       "\t<tr><td>-0.049463093</td><td>-0.01204274</td><td>1.024934</td></tr>\n",
       "\t<tr><td>-0.010625812</td><td>-0.01707765</td><td>1.130382</td></tr>\n",
       "</tbody>\n",
       "</table>\n"
      ],
      "text/latex": [
       "A matrix: 6 × 3 of type dbl\n",
       "\\begin{tabular}{lll}\n",
       "\t  0.045330035 &  0.03809809 & 1.084887\\\\\n",
       "\t  0.001892590 &  0.02064822 & 1.148317\\\\\n",
       "\t  0.004314266 &  0.07337092 & 1.071290\\\\\n",
       "\t  0.024781972 &  0.03994716 & 1.096133\\\\\n",
       "\t -0.049463093 & -0.01204274 & 1.024934\\\\\n",
       "\t -0.010625812 & -0.01707765 & 1.130382\\\\\n",
       "\\end{tabular}\n"
      ],
      "text/markdown": [
       "\n",
       "A matrix: 6 × 3 of type dbl\n",
       "\n",
       "|  0.045330035 |  0.03809809 | 1.084887 |\n",
       "|  0.001892590 |  0.02064822 | 1.148317 |\n",
       "|  0.004314266 |  0.07337092 | 1.071290 |\n",
       "|  0.024781972 |  0.03994716 | 1.096133 |\n",
       "| -0.049463093 | -0.01204274 | 1.024934 |\n",
       "| -0.010625812 | -0.01707765 | 1.130382 |\n",
       "\n"
      ],
      "text/plain": [
       "     [,1]         [,2]        [,3]    \n",
       "[1,]  0.045330035  0.03809809 1.084887\n",
       "[2,]  0.001892590  0.02064822 1.148317\n",
       "[3,]  0.004314266  0.07337092 1.071290\n",
       "[4,]  0.024781972  0.03994716 1.096133\n",
       "[5,] -0.049463093 -0.01204274 1.024934\n",
       "[6,] -0.010625812 -0.01707765 1.130382"
      ]
     },
     "metadata": {},
     "output_type": "display_data"
    }
   ],
   "source": [
    "t_start = Sys.time()\n",
    "\n",
    "for(r in 1:R){\n",
    "  ### GENERATE DATA\n",
    "  data = suppressWarnings(DataSim(n=n,p=p,Ry=.3,Rd=.7,Intercept=F,a=tau))\n",
    "  X = cbind(data$d,data$X); y = data$y\n",
    "  \n",
    "  ### METHOD 1: Modele complet\n",
    "  full.reg = lm(y ~ X)\n",
    "\n",
    "  ### METHOD 2: Selection Lasso\n",
    "  lasso.reg = PostLasso(X,y,nopen=c(1))\n",
    "  \n",
    "  ### METHOD 3: Selection sur la stat de Student\n",
    "  student.reg = PostStudent(X,y,noppen=c(1),alpha=.05)\n",
    "  \n",
    "  \n",
    "  ### COLLECTING RESULTS\n",
    "  Results[r,] = c(full.reg$coef[2],\n",
    "                  lasso.reg[2],\n",
    "                  student.reg[2])\n",
    "}\n",
    "\n",
    "print(Sys.time()-t_start)"
   ]
  },
  {
   "cell_type": "code",
   "execution_count": 42,
   "metadata": {},
   "outputs": [
    {
     "name": "stdout",
     "output_type": "stream",
     "text": [
      "                    bias       RMSE\n",
      "Complet      0.001509292 0.06082191\n",
      "Post-Lasso   0.028332998 0.06582971\n",
      "Post-Student 1.093468936 1.09453626\n"
     ]
    }
   ],
   "source": [
    "### COMPUTE BIAS AND RMSE\n",
    "StatDisplay = data.frame()\n",
    "StatDisplay[1:3,\"bias\"] = apply(Results-tau,2,mean)\n",
    "StatDisplay[1:3,\"RMSE\"] = sqrt(apply((Results-tau)^2,2,mean))\n",
    "row.names(StatDisplay) = c(\"Complet\",\"Post-Lasso\",\"Post-Student\")\n",
    "print(StatDisplay)"
   ]
  },
  {
   "cell_type": "code",
   "execution_count": null,
   "metadata": {},
   "outputs": [],
   "source": [
    "### DRAW CHARTS\n",
    "id = c(mapply(function(x) rep(x,R),1:3))\n",
    "val = c(Results)-a\n",
    "data_res = data.frame(val = val, model = id)\n",
    "\n",
    "M = max(abs(quantile(Results,.01,na.rm=T)),abs(quantile(Results,.99,na.rm=T)))\n",
    "lb = -1.1*M; ub = 1.1*M\n",
    "\n",
    "get.plot <- function(data,modelS,title=\"A Title\",s){\n",
    "  plot_res <- ggplot(subset(data, (model==modelS)), aes(x=val)) + \n",
    "    geom_histogram(binwidth = .02, alpha=.5, position='identity',fill=\"steelblue\", aes(y = ..density..)) +\n",
    "    scale_x_continuous(limits=c(lb,ub), name=\"Treatment effect\") +\n",
    "    ggtitle(title) + \n",
    "    stat_function(fun = dnorm, args=list(mean=0, sd=s), colour=\"darkorchid3\", size=1) +\n",
    "    theme(plot.title = element_text(lineheight=.8, face=\"bold\"),legend.position=\"none\")\n",
    "  return(plot_res)\n",
    "} # plot func\n",
    "\n",
    "pdf(\"plots/Immunized.pdf\",width=14,height=4)\n",
    "grid.arrange(get.plot(data_res,1,\"Naive Post-Selec\", mean(stdev)), get.plot(data_res,2,\"Double-Selec\", mean(stdev)), get.plot(data_res,3,\"Double-Selec, Cross-fitting\", mean(stdev)), ncol=3)\n",
    "dev.off()"
   ]
  }
 ],
 "metadata": {
  "kernelspec": {
   "display_name": "R",
   "language": "R",
   "name": "ir"
  },
  "language_info": {
   "codemirror_mode": "r",
   "file_extension": ".r",
   "mimetype": "text/x-r-source",
   "name": "R",
   "pygments_lexer": "r",
   "version": "3.5.1"
  }
 },
 "nbformat": 4,
 "nbformat_minor": 2
}
